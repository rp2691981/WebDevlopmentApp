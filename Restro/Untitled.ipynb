{
 "cells": [
  {
   "cell_type": "code",
   "execution_count": 2,
   "id": "1fe51442",
   "metadata": {},
   "outputs": [],
   "source": [
    "v=9\n",
    "num=371\n",
    "t=num\n",
    "s=0\n",
    "while num>0:\n",
    "    rem=num%10\n",
    "    prob=rem*rem*rem\n",
    "    s=s+prob\n",
    "    num=num/10\n",
    "if s==t:\n",
    "    print(\"ar\")\n",
    "    "
   ]
  },
  {
   "cell_type": "code",
   "execution_count": 3,
   "id": "6eaabd67",
   "metadata": {},
   "outputs": [
    {
     "name": "stdout",
     "output_type": "stream",
     "text": [
      "2\n",
      "1\n",
      "-1\n",
      "-4\n",
      "-8\n",
      "-13\n"
     ]
    }
   ],
   "source": [
    "a=5\n",
    "b=1\n",
    "c=10\n",
    "d=2\n",
    "e=0\n",
    "n=0\n",
    "while n<=5:\n",
    "    c=a+n\n",
    "    b=b-n\n",
    "    c=c+n\n",
    "    d=d-n\n",
    "    print(d)\n",
    "    n=n+1"
   ]
  },
  {
   "cell_type": "code",
   "execution_count": null,
   "id": "e403a307",
   "metadata": {},
   "outputs": [],
   "source": []
  }
 ],
 "metadata": {
  "kernelspec": {
   "display_name": "Python 3",
   "language": "python",
   "name": "python3"
  },
  "language_info": {
   "codemirror_mode": {
    "name": "ipython",
    "version": 3
   },
   "file_extension": ".py",
   "mimetype": "text/x-python",
   "name": "python",
   "nbconvert_exporter": "python",
   "pygments_lexer": "ipython3",
   "version": "3.8.8"
  }
 },
 "nbformat": 4,
 "nbformat_minor": 5
}
